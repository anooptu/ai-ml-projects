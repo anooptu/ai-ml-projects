{
 "cells": [
  {
   "cell_type": "code",
   "execution_count": null,
   "id": "fde258ac-ac61-418b-9c3e-cf7df54e67c2",
   "metadata": {
    "tags": []
   },
   "outputs": [],
   "source": [
    "import pandas as pd\n",
    "\n",
    "df = pd.DataFrame({\n",
    "    'Name': [' Alice ', 'BOB', '  Charlie  '],\n",
    "    'Age': [25, None, 30],\n",
    "    'City': ['new york', 'LOS ANGELES', 'Chicago']\n",
    "})"
   ]
  },
  {
   "cell_type": "code",
   "execution_count": null,
   "id": "816b1db2-be00-40fb-9d14-16492dab698f",
   "metadata": {
    "tags": []
   },
   "outputs": [],
   "source": [
    "df"
   ]
  },
  {
   "cell_type": "code",
   "execution_count": null,
   "id": "209b79dc-775b-49f6-aa52-b8ef3b5c2d7f",
   "metadata": {
    "tags": []
   },
   "outputs": [],
   "source": [
    "## Converting Name to UPPER case\n",
    "df['Name'] = df['Name'].apply(lambda x: x.upper())"
   ]
  },
  {
   "cell_type": "code",
   "execution_count": null,
   "id": "8f7ef4d6-479f-483f-8725-0482961c6d16",
   "metadata": {},
   "outputs": [],
   "source": [
    "## Converting City to UPPER case\n",
    "df['City'] = df['City'].apply(lambda x: x.upper())"
   ]
  },
  {
   "cell_type": "code",
   "execution_count": null,
   "id": "64ddb40d-1819-4ab9-a6c8-614b303c3d6d",
   "metadata": {
    "tags": []
   },
   "outputs": [],
   "source": [
    "df"
   ]
  },
  {
   "cell_type": "code",
   "execution_count": null,
   "id": "adff02ea-3425-4cc1-9eef-d643b2e28f8f",
   "metadata": {
    "tags": []
   },
   "outputs": [],
   "source": [
    "## Removing the unwanted white spaces in Name\n",
    "\n",
    "df['Name'] = df['Name'].apply(lambda x: x.strip())\n",
    "df"
   ]
  },
  {
   "cell_type": "code",
   "execution_count": null,
   "id": "d26d4281-ffba-4548-9e8f-f4124154498f",
   "metadata": {
    "tags": []
   },
   "outputs": [],
   "source": [
    "## Replacing missing value in AGE with Avg of Age\n",
    "\n",
    "avg_age = df['Age'].mean()\n",
    "print('Avg of age: ', avg_age)\n",
    "df['Age'] = df['Age'].apply(lambda x: avg_age if pd.isnull(x) else x)\n",
    "df"
   ]
  },
  {
   "cell_type": "code",
   "execution_count": null,
   "id": "1de89e0e-746c-4d07-9390-19ee269333e0",
   "metadata": {
    "tags": []
   },
   "outputs": [],
   "source": [
    "## New features - Square age\n",
    "df['Age Square'] = df['Age'].apply(lambda x: x*x)\n",
    "df"
   ]
  },
  {
   "cell_type": "code",
   "execution_count": null,
   "id": "e11167ef-b0f1-4d6e-ab24-22ece042abb6",
   "metadata": {},
   "outputs": [],
   "source": []
  }
 ],
 "metadata": {
  "kernelspec": {
   "display_name": "Python 3 (ipykernel)",
   "language": "python",
   "name": "python3"
  },
  "language_info": {
   "codemirror_mode": {
    "name": "ipython",
    "version": 3
   },
   "file_extension": ".py",
   "mimetype": "text/x-python",
   "name": "python",
   "nbconvert_exporter": "python",
   "pygments_lexer": "ipython3",
   "version": "3.11.5"
  }
 },
 "nbformat": 4,
 "nbformat_minor": 5
}
