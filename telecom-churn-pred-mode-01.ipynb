{
 "cells": [
  {
   "cell_type": "code",
   "execution_count": 1,
   "id": "4a315e64-4fd4-45bb-9782-ca61c79ceecc",
   "metadata": {
    "tags": []
   },
   "outputs": [],
   "source": [
    "import numpy as np\n",
    "import pandas as pd"
   ]
  },
  {
   "cell_type": "code",
   "execution_count": null,
   "id": "2888afd4-ee58-4484-a832-23ae698736be",
   "metadata": {
    "tags": []
   },
   "outputs": [],
   "source": [
    "from sklearn.preprocessing import StandardScaler\n",
    "from sklearn.preprocessing import LabelEncoder\n",
    "\n",
    "from sklearn.tree import DecisionTreeClassifier\n",
    "from sklearn.ensemble import RandomForestClassifier\n",
    "from sklearn.naive_bayes import GaussianNB\n",
    "from sklearn.neighbors import KNeighborsClassifier\n",
    "from sklearn.svm import SVC\n",
    "from sklearn.neural_network import MLPClassifier\n",
    "from sklearn.ensemble import AdaBoostClassifier\n",
    "from sklearn.ensemble import GradientBoostingClassifier\n",
    "from sklearn.ensemble import ExtraTreesClassifier\n",
    "from sklearn.linear_model import LogisticRegression\n",
    "from sklearn.model_selection import train_test_split\n",
    "from sklearn.metrics import accuracy_score\n",
    "from xgboost import XGBClassifier\n",
    "from catboost import CatBoostClassifier\n",
    "from sklearn import metrics\n",
    "from sklearn.metrics import roc_curve\n",
    "from sklearn.metrics import recall_score, confusion_matrix, precision_score, f1_score, accuracy_score, classification_report"
   ]
  },
  {
   "cell_type": "code",
   "execution_count": null,
   "id": "dede2de5-cf4f-4375-be3a-10cd70ce69ae",
   "metadata": {
    "tags": []
   },
   "outputs": [],
   "source": [
    "df = pd.read_csv(\"telecom-input-data.xls\")\n",
    "df.head()"
   ]
  },
  {
   "cell_type": "code",
   "execution_count": null,
   "id": "4e36a030-f369-4ebc-8241-393faf1ae96d",
   "metadata": {
    "tags": []
   },
   "outputs": [],
   "source": [
    "df.info()"
   ]
  },
  {
   "cell_type": "code",
   "execution_count": null,
   "id": "1095c528-e831-48c1-b541-30845805556a",
   "metadata": {
    "tags": []
   },
   "outputs": [],
   "source": [
    "df.duplicated().sum()"
   ]
  },
  {
   "cell_type": "code",
   "execution_count": null,
   "id": "44909758-0bfd-4671-8871-c1261ab5fee7",
   "metadata": {
    "tags": []
   },
   "outputs": [],
   "source": [
    "df.shape"
   ]
  },
  {
   "cell_type": "code",
   "execution_count": null,
   "id": "9b4c443b-d64c-49fd-a25b-1e0219dfde73",
   "metadata": {
    "tags": []
   },
   "outputs": [],
   "source": [
    "for col in df.columns:\n",
    "    col_values = df[col].unique()\n",
    "    print(\"***** \", col, \" *****\")\n",
    "    print(\"- Type: \", df[col].dtype)\n",
    "    print(\"- Total Unique values: \", len(col_values))\n",
    "    print(\"- Unique values: \", col_values)"
   ]
  },
  {
   "cell_type": "code",
   "execution_count": null,
   "id": "a51f1b2f-fe1d-4e9b-92f0-f7bc5c9e508f",
   "metadata": {
    "tags": []
   },
   "outputs": [],
   "source": [
    "df['TotalCharges'].nunique()"
   ]
  },
  {
   "cell_type": "code",
   "execution_count": null,
   "id": "1792111e-cddc-4415-87cd-83cd332b3fc3",
   "metadata": {
    "tags": []
   },
   "outputs": [],
   "source": [
    "invalid_rows = df[pd.to_numeric(df['TotalCharges'], errors='coerce').isna()]\n",
    "\n",
    "print('Invalid raws (TotalCharges value is not convertable to int): ', len(invalid_rows))"
   ]
  },
  {
   "cell_type": "code",
   "execution_count": null,
   "id": "289e4b8e-d66d-4a23-9a41-217c2b2002b2",
   "metadata": {
    "tags": []
   },
   "outputs": [],
   "source": [
    "df['TotalCharges'] = pd.to_numeric(df['TotalCharges'], errors='coerce')"
   ]
  },
  {
   "cell_type": "code",
   "execution_count": null,
   "id": "74731226-41a8-4afc-a673-18c961e16970",
   "metadata": {
    "tags": []
   },
   "outputs": [],
   "source": [
    "df.isnull().sum()"
   ]
  },
  {
   "cell_type": "code",
   "execution_count": null,
   "id": "947ff3a0-7219-4420-9a19-d556bec8ba53",
   "metadata": {
    "tags": []
   },
   "outputs": [],
   "source": [
    "df[np.isnan(df['TotalCharges'])]"
   ]
  },
  {
   "cell_type": "code",
   "execution_count": null,
   "id": "c0c11637-7a29-4614-8b39-1b78ad4c92f7",
   "metadata": {
    "tags": []
   },
   "outputs": [],
   "source": [
    "df[df['tenure']==0]"
   ]
  },
  {
   "cell_type": "code",
   "execution_count": null,
   "id": "296983ef-e670-4112-bbeb-5e52df28944c",
   "metadata": {
    "tags": []
   },
   "outputs": [],
   "source": [
    "df = df[df['tenure'] != 0]"
   ]
  },
  {
   "cell_type": "code",
   "execution_count": null,
   "id": "2622dc03-a1cc-4f7e-baaf-85fcd8552589",
   "metadata": {
    "tags": []
   },
   "outputs": [],
   "source": [
    "df.isnull().sum()"
   ]
  },
  {
   "cell_type": "code",
   "execution_count": null,
   "id": "c92fbf63-2cdf-43a6-8450-b961b1951632",
   "metadata": {
    "tags": []
   },
   "outputs": [],
   "source": [
    "df = df.drop(columns=['customerID'])"
   ]
  },
  {
   "cell_type": "code",
   "execution_count": null,
   "id": "22b042ea-d3e8-4696-953a-777670367ac1",
   "metadata": {
    "tags": []
   },
   "outputs": [],
   "source": [
    "df.head()"
   ]
  },
  {
   "cell_type": "code",
   "execution_count": null,
   "id": "d0985aec-b32f-4a28-9338-e19a1d1859f1",
   "metadata": {
    "tags": []
   },
   "outputs": [],
   "source": [
    "df.info()"
   ]
  },
  {
   "cell_type": "code",
   "execution_count": null,
   "id": "4072e093-9c84-4aa9-8262-5a6a93eeef11",
   "metadata": {
    "tags": []
   },
   "outputs": [],
   "source": [
    "import matplotlib.pyplot as plt\n",
    "import seaborn as sns"
   ]
  },
  {
   "cell_type": "code",
   "execution_count": null,
   "id": "c63e1941-576d-4f1a-b4e4-8506bd13b36c",
   "metadata": {
    "tags": []
   },
   "outputs": [],
   "source": [
    "print('MonthlyCharges MIN: ', df['MonthlyCharges'].min())\n",
    "print('MonthlyCharges MAX: ', df['MonthlyCharges'].max())"
   ]
  },
  {
   "cell_type": "code",
   "execution_count": null,
   "id": "daa525a0-85ed-4e34-be38-b9e194ee69de",
   "metadata": {
    "tags": []
   },
   "outputs": [],
   "source": [
    "plt.figure(figsize=(8, 4))\n",
    "sns.histplot(df['MonthlyCharges'], bins=30, kde=True)\n",
    "plt.title('Distribution of Monthly Charges')\n",
    "plt.xlabel('Monthly Charges')\n",
    "plt.ylabel('Frequency')\n",
    "plt.show()\n"
   ]
  },
  {
   "cell_type": "code",
   "execution_count": null,
   "id": "06a2c408-24f1-4d65-a3c7-25376649bf48",
   "metadata": {
    "tags": []
   },
   "outputs": [],
   "source": [
    "plt.figure(figsize=(6, 4))\n",
    "sns.countplot(x='Contract', hue='Churn', data=df)\n",
    "plt.title('Count of Contract Types')\n",
    "plt.xlabel('Contract Type')\n",
    "plt.ylabel('Count')\n",
    "plt.show()\n"
   ]
  },
  {
   "cell_type": "code",
   "execution_count": null,
   "id": "54e81815-1bbf-4e0c-b145-143071eab755",
   "metadata": {
    "tags": []
   },
   "outputs": [],
   "source": [
    "plt.figure(figsize=(6, 4))\n",
    "sns.countplot(x='gender', hue='Churn', data=df)\n",
    "plt.title('Count of Gender Types')\n",
    "plt.xlabel('Gender Type')\n",
    "plt.ylabel('Count')\n",
    "plt.show()"
   ]
  },
  {
   "cell_type": "code",
   "execution_count": null,
   "id": "47a03291-5412-437a-b030-3080ccddaa6b",
   "metadata": {
    "tags": []
   },
   "outputs": [],
   "source": [
    "plt.figure(figsize=(6, 4))\n",
    "sns.countplot(x='Partner', hue='Churn', data=df)\n",
    "plt.title('Count of Gender Types')\n",
    "plt.xlabel('Gender Type')\n",
    "plt.ylabel('Count')\n",
    "plt.show()"
   ]
  },
  {
   "cell_type": "code",
   "execution_count": null,
   "id": "2df7c60e-911b-4f1f-964c-80dba6978d3e",
   "metadata": {
    "tags": []
   },
   "outputs": [],
   "source": [
    "plt.figure(figsize=(14, 4))\n",
    "sns.countplot(x='PaymentMethod', hue='Churn', data=df)\n",
    "plt.title('Count of Gender Types')\n",
    "plt.xlabel('Gender Type')\n",
    "plt.ylabel('Count')\n",
    "plt.show()"
   ]
  },
  {
   "cell_type": "code",
   "execution_count": null,
   "id": "fcbd098a-36f3-4ce4-a7a9-3a6a334b9ada",
   "metadata": {
    "tags": []
   },
   "outputs": [],
   "source": [
    "sns.set_context(\"paper\",font_scale=1.1)\n",
    "ax = sns.kdeplot(df.MonthlyCharges[(df[\"Churn\"] == 'No') ],\n",
    "                color=\"Red\");\n",
    "ax = sns.kdeplot(df.MonthlyCharges[(df[\"Churn\"] == 'Yes') ],\n",
    "                ax =ax, color=\"Blue\");\n",
    "ax.legend([\"Not Churn\",\"Churn\"],loc='upper right');\n",
    "ax.set_ylabel('Density');\n",
    "ax.set_xlabel('Monthly Charges');\n",
    "ax.set_title('Distribution of monthly charges by churn');"
   ]
  },
  {
   "cell_type": "code",
   "execution_count": null,
   "id": "551dbea9-0ea1-4c72-8691-78c1f3b80a46",
   "metadata": {
    "tags": []
   },
   "outputs": [],
   "source": [
    "df_1 = df.copy()\n",
    "df_2 = df.copy()"
   ]
  },
  {
   "cell_type": "code",
   "execution_count": null,
   "id": "6650bed9-6975-4559-b6ec-d7f0f8c935f7",
   "metadata": {
    "tags": []
   },
   "outputs": [],
   "source": [
    "df_1.info()"
   ]
  },
  {
   "cell_type": "code",
   "execution_count": null,
   "id": "f3bed7b9-79e4-4d64-9d45-c67faea5ae80",
   "metadata": {},
   "outputs": [],
   "source": [
    "#########\n",
    "\n",
    "# Label Encoded all Objects - For knowing how encoding affects the peformance\n",
    "\n",
    "########"
   ]
  },
  {
   "cell_type": "code",
   "execution_count": null,
   "id": "8e4b6e45-8920-45ff-a957-a43736edbd6a",
   "metadata": {
    "tags": []
   },
   "outputs": [],
   "source": [
    "from sklearn.preprocessing import StandardScaler\n",
    "from sklearn.preprocessing import LabelEncoder\n",
    "scaler = StandardScaler()"
   ]
  },
  {
   "cell_type": "code",
   "execution_count": null,
   "id": "2e4fe297-c4e9-4155-99b6-1f638fd5c40a",
   "metadata": {
    "tags": []
   },
   "outputs": [],
   "source": [
    "## Function to do label encoding\n",
    "def label_encode_columns(df, columns):\n",
    "    label_encoders = {}\n",
    "    for col in columns:\n",
    "        le = LabelEncoder()\n",
    "        df[col] = le.fit_transform(df[col])\n",
    "    return df"
   ]
  },
  {
   "cell_type": "code",
   "execution_count": null,
   "id": "31fa741a-7809-4ac5-a709-9c62cea3ad25",
   "metadata": {
    "tags": []
   },
   "outputs": [],
   "source": [
    "to_label_encode = list(df.select_dtypes(include='object').columns)\n",
    "df_1 = label_encode_columns(df_1, to_label_encode)"
   ]
  },
  {
   "cell_type": "code",
   "execution_count": null,
   "id": "2d810b08-1628-441c-8a2c-a082ea952616",
   "metadata": {
    "tags": []
   },
   "outputs": [],
   "source": [
    "df_1.info()"
   ]
  },
  {
   "cell_type": "code",
   "execution_count": null,
   "id": "9b30a10d-1e60-4df0-88bd-1a1c7dba6e89",
   "metadata": {
    "tags": []
   },
   "outputs": [],
   "source": [
    "df_1.isnull().sum()"
   ]
  },
  {
   "cell_type": "code",
   "execution_count": null,
   "id": "dd6c0eb0-5869-45a6-b0b1-c62e6114e3a1",
   "metadata": {
    "tags": []
   },
   "outputs": [],
   "source": [
    "df_1.head()"
   ]
  },
  {
   "cell_type": "code",
   "execution_count": null,
   "id": "a94571c4-bd1a-45d5-b03d-10c97abe2891",
   "metadata": {
    "tags": []
   },
   "outputs": [],
   "source": [
    "## Correlation of the featrures\n",
    "correlation_matrix = df_1.corr()\n",
    "plt.figure(figsize=(12, 8))\n",
    "sns.heatmap(correlation_matrix, annot=True, cmap='coolwarm', fmt=\".2f\")\n",
    "plt.title('Correlation Matrix Heatmap')\n",
    "plt.show()"
   ]
  },
  {
   "cell_type": "code",
   "execution_count": null,
   "id": "f95bf1bc-c062-4e9c-8e34-ec6aefc3a2d0",
   "metadata": {
    "tags": []
   },
   "outputs": [],
   "source": [
    "df_1.corr()['Churn']"
   ]
  },
  {
   "cell_type": "code",
   "execution_count": null,
   "id": "c778eefc-e648-4c43-8641-2dc82100eb1a",
   "metadata": {
    "tags": []
   },
   "outputs": [],
   "source": [
    "import time\n",
    "\n",
    "# Get current time in milliseconds\n",
    "milliseconds = int(time.time() * 1000)\n",
    "\n",
    "# Convert to string\n",
    "timestamp_str = str(milliseconds)\n",
    "\n",
    "print(timestamp_str)"
   ]
  },
  {
   "cell_type": "code",
   "execution_count": null,
   "id": "dd5d4be8-0a4e-4401-aa6a-7b76257f2c1e",
   "metadata": {
    "tags": []
   },
   "outputs": [],
   "source": [
    "from sklearn.ensemble import RandomForestClassifier, GradientBoostingClassifier\n",
    "from sklearn.tree import DecisionTreeClassifier\n",
    "\n",
    "def evaluate_models_unscaled(X, y, f_name):\n",
    "    # Split the data\n",
    "    X_train, X_test, y_train, y_test = train_test_split(X, y, test_size=0.2, random_state=42)\n",
    "\n",
    "    # Define models\n",
    "    models = {\n",
    "        'Decision Tree': DecisionTreeClassifier(),\n",
    "        'Random Forest': RandomForestClassifier(),\n",
    "        'Gradient Boosting': GradientBoostingClassifier()\n",
    "    }\n",
    "\n",
    "    # Initialize results dictionary\n",
    "    results = {'Model': [], 'Accuracy': [], 'Precision': [], 'Recall': [], 'F1 Score': []}\n",
    "\n",
    "    # Train and evaluate models\n",
    "    for name, model in models.items():\n",
    "        model.fit(X_train, y_train)\n",
    "        y_pred = model.predict(X_test)\n",
    "        results['Model'].append(name)\n",
    "        results['Accuracy'].append(accuracy_score(y_test, y_pred))\n",
    "        results['Precision'].append(precision_score(y_test, y_pred, zero_division=0))\n",
    "        results['Recall'].append(recall_score(y_test, y_pred, zero_division=0))\n",
    "        results['F1 Score'].append(f1_score(y_test, y_pred, zero_division=0))\n",
    "\n",
    "    # Create DataFrame\n",
    "    results_df = pd.DataFrame(results)\n",
    "\n",
    "    # Plotting\n",
    "    results_df.set_index('Model')[['Accuracy', 'Precision', 'Recall', 'F1 Score']].plot(kind='bar', figsize=(10, 6))\n",
    "    plt.title('Performance of Unscaled Models')\n",
    "    plt.ylabel('Score')\n",
    "    plt.ylim(0, 1)\n",
    "    plt.xticks(rotation=45)\n",
    "    plt.tight_layout()\n",
    "    plt.show()\n",
    "\n",
    "    # Export to Excel\n",
    "    results_df.to_csv(f_name, index=False)\n",
    "\n",
    "    return results_df\n"
   ]
  },
  {
   "cell_type": "code",
   "execution_count": null,
   "id": "6de0d99c-b769-4eb3-aebe-a141fc8fd2ec",
   "metadata": {
    "tags": []
   },
   "outputs": [],
   "source": [
    "from sklearn.model_selection import train_test_split\n",
    "from sklearn.preprocessing import StandardScaler\n",
    "from sklearn.linear_model import LogisticRegression\n",
    "from sklearn.svm import SVC\n",
    "from sklearn.neural_network import MLPClassifier\n",
    "from sklearn.metrics import accuracy_score, precision_score, recall_score, f1_score\n",
    "\n",
    "def evaluate_models_scaled(X, y, f_name):\n",
    "    # Split the data\n",
    "    X_train, X_test, y_train, y_test = train_test_split(X, y, test_size=0.2, random_state=42)\n",
    "\n",
    "    # Define models\n",
    "    models = {\n",
    "        'Logistic Regression': LogisticRegression(max_iter=1000),\n",
    "        'Support Vector Machine': SVC(),\n",
    "        'Neural Network': MLPClassifier(max_iter=1000)\n",
    "    }\n",
    "\n",
    "    # Initialize results dictionary\n",
    "    results = {'Model': [], 'Accuracy': [], 'Precision': [], 'Recall': [], 'F1 Score': []}\n",
    "\n",
    "    # Train and evaluate models\n",
    "    for name, model in models.items():\n",
    "        model.fit(X_train, y_train)\n",
    "        y_pred = model.predict(X_test)\n",
    "        results['Model'].append(name)\n",
    "        results['Accuracy'].append(accuracy_score(y_test, y_pred))\n",
    "        results['Precision'].append(precision_score(y_test, y_pred, zero_division=0))\n",
    "        results['Recall'].append(recall_score(y_test, y_pred, zero_division=0))\n",
    "        results['F1 Score'].append(f1_score(y_test, y_pred, zero_division=0))\n",
    "\n",
    "    # Create DataFrame\n",
    "    results_df = pd.DataFrame(results)\n",
    "\n",
    "    # Plotting\n",
    "    results_df.set_index('Model')[['Accuracy', 'Precision', 'Recall', 'F1 Score']].plot(kind='bar', figsize=(10, 6))\n",
    "    plt.title('Performance of Scaled Models')\n",
    "    plt.ylabel('Score')\n",
    "    plt.ylim(0, 1)\n",
    "    plt.xticks(rotation=45)\n",
    "    plt.tight_layout()\n",
    "    plt.show()\n",
    "\n",
    "    # Export to Excel\n",
    "    results_df.to_csv(f_name, index=False)\n",
    "\n",
    "    return results_df\n"
   ]
  },
  {
   "cell_type": "code",
   "execution_count": null,
   "id": "c8441799-a457-467f-9779-842abc8b9812",
   "metadata": {
    "tags": []
   },
   "outputs": [],
   "source": [
    "df_num_cols = ['tenure', 'MonthlyCharges', 'TotalCharges']\n",
    "df_2_ohe_col =['PaymentMethod', 'Contract', 'InternetService'] \n",
    "df_2_label_enc_col = list(set(df_2.columns)- set(df_num_cols) - set(df_2_ohe_col))"
   ]
  },
  {
   "cell_type": "code",
   "execution_count": null,
   "id": "fee1edaf-b6c0-4b8b-9755-50269900e870",
   "metadata": {
    "tags": []
   },
   "outputs": [],
   "source": [
    "df_1_scaled = df_1.copy()\n",
    "df_1_scaled[df_num_cols] = scaler.fit_transform(df_1_scaled[df_num_cols])\n",
    "df_1_scaled.head()"
   ]
  },
  {
   "cell_type": "code",
   "execution_count": null,
   "id": "d8a61b54-d744-43e3-840d-c05098d7253c",
   "metadata": {
    "tags": []
   },
   "outputs": [],
   "source": [
    "df_2.head()"
   ]
  },
  {
   "cell_type": "code",
   "execution_count": null,
   "id": "804bd4ff-ba9d-4752-9094-b23488901872",
   "metadata": {
    "tags": []
   },
   "outputs": [],
   "source": [
    "X = df_1.drop(columns=['Churn'])\n",
    "y = df_1['Churn']"
   ]
  },
  {
   "cell_type": "code",
   "execution_count": null,
   "id": "c537d3fb-d1bb-4bda-aeae-ad04c30f3477",
   "metadata": {
    "tags": []
   },
   "outputs": [],
   "source": [
    "print(\"X shape:\", X.shape)\n",
    "print(\"y shape:\", y.shape)"
   ]
  },
  {
   "cell_type": "code",
   "execution_count": null,
   "id": "23455480-9d83-4c82-b865-08a66a685ee4",
   "metadata": {
    "tags": []
   },
   "outputs": [],
   "source": [
    "X_scaled = df_1_scaled.drop(columns=['Churn'])\n",
    "y_scaled = df_1_scaled['Churn']"
   ]
  },
  {
   "cell_type": "code",
   "execution_count": null,
   "id": "6c339ab7-440a-467b-a20d-32ea5069103b",
   "metadata": {
    "tags": []
   },
   "outputs": [],
   "source": [
    "print(\"X Scaled shape:\", X.shape)\n",
    "print(\"y Scaled shape:\", y.shape)"
   ]
  },
  {
   "cell_type": "code",
   "execution_count": null,
   "id": "46666c60-86cd-4d92-8b45-e8b2be23c5f4",
   "metadata": {
    "tags": []
   },
   "outputs": [],
   "source": [
    "# Evaluate scaled models\n",
    "from datetime import datetime\n",
    "\n",
    "timestamp_str = datetime.now().strftime('%d_%H%S')\n",
    "timestamp_str"
   ]
  },
  {
   "cell_type": "code",
   "execution_count": null,
   "id": "fdd7672c-4310-4c9f-83f4-01eafacd15c3",
   "metadata": {
    "tags": []
   },
   "outputs": [],
   "source": [
    "# Evaluate unscaled models\n",
    "fname = 'df1_un_scaled_' + timestamp_str + '.csv'\n",
    "unscaled_results = evaluate_models_unscaled(X, y, fname)"
   ]
  },
  {
   "cell_type": "code",
   "execution_count": null,
   "id": "0261ce78-e55f-46f0-860b-f1d89248f6ac",
   "metadata": {
    "tags": []
   },
   "outputs": [],
   "source": [
    "fname = 'df1_scaled_' + timestamp_str + '.csv'\n",
    "scaled_results = evaluate_models_scaled(X_scaled, y_scaled, fname)"
   ]
  },
  {
   "cell_type": "code",
   "execution_count": null,
   "id": "124fb8fa-b8d9-4ae8-9930-94a6e8acf2cb",
   "metadata": {
    "tags": []
   },
   "outputs": [],
   "source": []
  },
  {
   "cell_type": "code",
   "execution_count": null,
   "id": "6e2831bf-6213-4515-b0a6-73f34faa29c9",
   "metadata": {},
   "outputs": [],
   "source": []
  },
  {
   "cell_type": "code",
   "execution_count": null,
   "id": "f65f4ba6-27a7-47eb-896e-bb12099cd259",
   "metadata": {},
   "outputs": [],
   "source": [
    "#########\n",
    "\n",
    "# Using Different Encodinf for Objects - For knowing how encoding affects the peformance\n",
    "\n",
    "########"
   ]
  },
  {
   "cell_type": "code",
   "execution_count": null,
   "id": "104e7be8-ddb6-4aba-b4a0-dfa0cb171ed2",
   "metadata": {
    "tags": []
   },
   "outputs": [],
   "source": [
    "df_2 = df"
   ]
  },
  {
   "cell_type": "code",
   "execution_count": null,
   "id": "b0429f53-8d44-418b-9247-506a288c8493",
   "metadata": {
    "tags": []
   },
   "outputs": [],
   "source": [
    "df_2.info()"
   ]
  },
  {
   "cell_type": "code",
   "execution_count": null,
   "id": "5555ecc2-fd10-4eb6-8dd3-61c035fccdd5",
   "metadata": {
    "tags": []
   },
   "outputs": [],
   "source": [
    "df_2['tenure'].unique()"
   ]
  },
  {
   "cell_type": "code",
   "execution_count": null,
   "id": "5bea35f7-4dc0-4688-9576-988ebd6decca",
   "metadata": {
    "tags": []
   },
   "outputs": [],
   "source": [
    "df_2.head()"
   ]
  },
  {
   "cell_type": "code",
   "execution_count": null,
   "id": "d1c55a78-e739-408d-aa78-03808ad908e0",
   "metadata": {
    "tags": []
   },
   "outputs": [],
   "source": [
    "df_2 = pd.get_dummies(df_2, columns=df_2_ohe_col, drop_first=True, dtype=int)\n"
   ]
  },
  {
   "cell_type": "code",
   "execution_count": null,
   "id": "59e3c494-8e89-4aca-934b-4ead6645ad8d",
   "metadata": {
    "tags": []
   },
   "outputs": [],
   "source": [
    "df_2.head()"
   ]
  },
  {
   "cell_type": "code",
   "execution_count": null,
   "id": "1f915b65-5bd5-439f-aca6-755c582512ff",
   "metadata": {
    "tags": []
   },
   "outputs": [],
   "source": [
    "df_2 = label_encode_columns(df_2, df_2_label_enc_col)"
   ]
  },
  {
   "cell_type": "code",
   "execution_count": null,
   "id": "0f08f023-7b5c-4a84-8641-87e3b2a5a99e",
   "metadata": {
    "tags": []
   },
   "outputs": [],
   "source": [
    "df_2_label_enc_col"
   ]
  },
  {
   "cell_type": "code",
   "execution_count": null,
   "id": "b1d8c125-1dd5-4d95-bdba-770e699e5998",
   "metadata": {
    "tags": []
   },
   "outputs": [],
   "source": [
    "df_2.head()"
   ]
  },
  {
   "cell_type": "code",
   "execution_count": null,
   "id": "3eb9c63a-811f-4261-96d0-feb9c6e011a8",
   "metadata": {
    "tags": []
   },
   "outputs": [],
   "source": [
    "df_num_cols"
   ]
  },
  {
   "cell_type": "code",
   "execution_count": null,
   "id": "734758d4-ff0c-49e9-978c-1c8890035a35",
   "metadata": {
    "tags": []
   },
   "outputs": [],
   "source": [
    "df_2_scaled = df_2.copy()\n",
    "df_2_scaled[df_num_cols] = scaler.fit_transform(df_2_scaled[df_num_cols])\n",
    "df_2_scaled.head()"
   ]
  },
  {
   "cell_type": "code",
   "execution_count": null,
   "id": "efcebc59-5e57-4fae-952b-6045c6474f5d",
   "metadata": {
    "tags": []
   },
   "outputs": [],
   "source": [
    "X2 = df_2.drop(columns='Churn')\n",
    "y2 = df_2['Churn']"
   ]
  },
  {
   "cell_type": "code",
   "execution_count": null,
   "id": "b8dc154c-e18a-4de9-9448-54ea7252e0f3",
   "metadata": {
    "tags": []
   },
   "outputs": [],
   "source": [
    "print(\"X shape:\", X2.shape)\n",
    "print(\"y shape:\", y2.shape)"
   ]
  },
  {
   "cell_type": "code",
   "execution_count": null,
   "id": "4b46ec64-5cf1-4c8c-9549-50e79222fb7a",
   "metadata": {
    "tags": []
   },
   "outputs": [],
   "source": [
    "X2_scaled = df_2_scaled.drop(columns='Churn')\n",
    "y2_scaled = df_2_scaled['Churn']"
   ]
  },
  {
   "cell_type": "code",
   "execution_count": null,
   "id": "04d4a492-8b52-4a1c-9ca8-5b6cb175073c",
   "metadata": {
    "tags": []
   },
   "outputs": [],
   "source": [
    "print(\"X_Scaled shape:\", X2_scaled.shape)\n",
    "print(\"y_Scaled shape:\", y2_scaled.shape)"
   ]
  },
  {
   "cell_type": "code",
   "execution_count": null,
   "id": "dfd8583e-b7dd-42d1-9eb1-412a2c4d2022",
   "metadata": {},
   "outputs": [],
   "source": []
  },
  {
   "cell_type": "code",
   "execution_count": null,
   "id": "08feec4f-edf8-4c77-8f07-27e62bbcc351",
   "metadata": {
    "tags": []
   },
   "outputs": [],
   "source": [
    "# Evaluate unscaled models\n",
    "fname = 'df2_un_scaled_' + timestamp_str + '.csv'\n",
    "unscaled_results = evaluate_models_unscaled(X2, y2, fname)"
   ]
  },
  {
   "cell_type": "code",
   "execution_count": null,
   "id": "d2e32a72-0ad1-4cb5-a56b-53441b434a72",
   "metadata": {
    "tags": []
   },
   "outputs": [],
   "source": [
    "# Evaluate scaled models\n",
    "fname = 'df2_scaled_' + timestamp_str + '.csv'\n",
    "scaled_results = evaluate_models_scaled(X2_scaled, y2_scaled, fname)"
   ]
  },
  {
   "cell_type": "code",
   "execution_count": null,
   "id": "334d07ee-f461-47fb-8efa-36afa2f9e867",
   "metadata": {},
   "outputs": [],
   "source": []
  },
  {
   "cell_type": "code",
   "execution_count": null,
   "id": "f44cdf3f-48da-4dee-97e4-b864c9ef32b3",
   "metadata": {},
   "outputs": [],
   "source": []
  },
  {
   "cell_type": "code",
   "execution_count": null,
   "id": "6a175687-91cc-4e3e-bf9f-4d7a852a889f",
   "metadata": {
    "tags": []
   },
   "outputs": [],
   "source": [
    "X_train, X_test, y_train, y_test = train_test_split(X2, y2, test_size=0.2, random_state=42)\n",
    "\n",
    "model_rf = RandomForestClassifier(\n",
    "    n_estimators=500,\n",
    "    oob_score=True,\n",
    "    n_jobs=-1,\n",
    "    random_state=50,\n",
    "    max_features='sqrt',  # Updated from 'auto' to 'sqrt'\n",
    "    max_leaf_nodes=30\n",
    ")\n",
    "\n",
    "model_rf.fit(X_train, y_train)\n",
    "\n",
    "# Make predictions\n",
    "prediction_test = model_rf.predict(X_test)\n",
    "print (metrics.accuracy_score(y_test, prediction_test))"
   ]
  },
  {
   "cell_type": "code",
   "execution_count": null,
   "id": "4bad90f0-ef94-494d-a255-fae7572af99f",
   "metadata": {
    "tags": []
   },
   "outputs": [],
   "source": [
    "X_train, X_test, y_train, y_test = train_test_split(X2_scaled, y2_scaled, test_size=0.2, random_state=42)\n",
    "\n",
    "model_rf = RandomForestClassifier(\n",
    "    n_estimators=500,\n",
    "    oob_score=True,\n",
    "    n_jobs=-1,\n",
    "    random_state=50,\n",
    "    max_features='sqrt',  # Updated from 'auto' to 'sqrt'\n",
    "    max_leaf_nodes=30\n",
    ")\n",
    "\n",
    "model_rf.fit(X_train, y_train)\n",
    "\n",
    "# Make predictions\n",
    "prediction_test = model_rf.predict(X_test)\n",
    "print (metrics.accuracy_score(y_test, prediction_test))"
   ]
  },
  {
   "cell_type": "code",
   "execution_count": null,
   "id": "a2a96158-509c-4517-841e-1d35939087f2",
   "metadata": {
    "tags": []
   },
   "outputs": [],
   "source": [
    "print(classification_report(y_test, prediction_test))\n"
   ]
  },
  {
   "cell_type": "code",
   "execution_count": null,
   "id": "45ff4006-e5cf-4460-9f1c-7f2329930084",
   "metadata": {
    "tags": []
   },
   "outputs": [],
   "source": [
    "a_model = AdaBoostClassifier()\n",
    "a_model.fit(X_train,y_train)\n",
    "a_preds = a_model.predict(X_test)\n",
    "print(\"AdaBoost Classifier accuracy\")\n",
    "metrics.accuracy_score(y_test, a_preds)"
   ]
  },
  {
   "cell_type": "code",
   "execution_count": null,
   "id": "77c6a0e1-d91d-442c-8973-f2a2de8063ef",
   "metadata": {
    "tags": []
   },
   "outputs": [],
   "source": [
    "from sklearn.ensemble import VotingClassifier\n",
    "clf1 = GradientBoostingClassifier()\n",
    "clf2 = LogisticRegression()\n",
    "clf3 = AdaBoostClassifier()\n",
    "eclf1 = VotingClassifier(estimators=[('gbc', clf1), ('lr', clf2), ('abc', clf3)], voting='soft')\n",
    "eclf1.fit(X_train, y_train)\n",
    "predictions = eclf1.predict(X_test)\n",
    "print(\"Final Accuracy Score \")\n",
    "print(accuracy_score(y_test, predictions))"
   ]
  },
  {
   "cell_type": "code",
   "execution_count": null,
   "id": "dad543ea-ad85-4925-9293-9f393cf09a3b",
   "metadata": {},
   "outputs": [],
   "source": []
  },
  {
   "cell_type": "code",
   "execution_count": null,
   "id": "bc951e27-5999-45f4-b019-42e91cbce46e",
   "metadata": {},
   "outputs": [],
   "source": []
  }
 ],
 "metadata": {
  "kernelspec": {
   "display_name": "Python 3 (ipykernel)",
   "language": "python",
   "name": "python3"
  },
  "language_info": {
   "codemirror_mode": {
    "name": "ipython",
    "version": 3
   },
   "file_extension": ".py",
   "mimetype": "text/x-python",
   "name": "python",
   "nbconvert_exporter": "python",
   "pygments_lexer": "ipython3",
   "version": "3.11.5"
  }
 },
 "nbformat": 4,
 "nbformat_minor": 5
}
